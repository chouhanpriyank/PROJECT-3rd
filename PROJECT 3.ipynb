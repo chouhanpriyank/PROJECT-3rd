{
 "cells": [
  {
   "cell_type": "markdown",
   "id": "ec0c69b1",
   "metadata": {},
   "source": [
    "# Assignment: Python Classes and Functions"
   ]
  },
  {
   "cell_type": "markdown",
   "id": "9e512b50",
   "metadata": {},
   "source": [
    "# Part A: Classes in Python"
   ]
  },
  {
   "cell_type": "code",
   "execution_count": null,
   "id": "8a7c07c3",
   "metadata": {},
   "outputs": [],
   "source": [
    "1. Class Definition and Object Creation Create a Python class called \"Student\" that has the following\n",
    "attributes: name,age,and grade. Define an initialization method to initialize these attributes when an\n",
    "object of the class is created. Create an instance of the class and set the attributes. Finally,print\n",
    "the attributes of the student object."
   ]
  },
  {
   "cell_type": "code",
   "execution_count": 22,
   "id": "20d88bc8",
   "metadata": {},
   "outputs": [
    {
     "name": "stdout",
     "output_type": "stream",
     "text": [
      "Name: Pooja\n",
      "Age: 18\n",
      "Grade: 90\n"
     ]
    }
   ],
   "source": [
    "class Student:\n",
    "    def __init__(self, name, age, grade):\n",
    "        self.name = name\n",
    "        self.age = age\n",
    "        self.grade = grade\n",
    "\n",
    "# create an instance of the class and set the attributes\n",
    "student = Student(\"Pooja\", 18, 90)\n",
    "\n",
    "# print the attributes of the student object\n",
    "print(f\"Name: {student.name}\")\n",
    "print(f\"Age: {student.age}\")\n",
    "print(f\"Grade: {student.grade}\")"
   ]
  },
  {
   "cell_type": "code",
   "execution_count": null,
   "id": "decd271b",
   "metadata": {},
   "outputs": [],
   "source": []
  },
  {
   "cell_type": "code",
   "execution_count": null,
   "id": "230ed2cf",
   "metadata": {},
   "outputs": [],
   "source": [
    "2. 2.\tMethods in a Class Extend the \"Student\" class from the previous question. Add a method called\n",
    "\"is_passing\" that returns True if the student's grade is greater than or equal to 50 and False\n",
    "otherwise. Create an instance of the class and use this method to check if the student is passing.\n",
    "Display the result."
   ]
  },
  {
   "cell_type": "code",
   "execution_count": 23,
   "id": "084729f9",
   "metadata": {},
   "outputs": [
    {
     "name": "stdout",
     "output_type": "stream",
     "text": [
      "Rajesh is passing.\n"
     ]
    }
   ],
   "source": [
    "class Student:\n",
    "    def __init__(self, name, grade):\n",
    "        self.name = name\n",
    "        self.grade = grade\n",
    "\n",
    "class ExtendedStudent(Student):\n",
    "    def is_passing(self):\n",
    "        return self.grade >= 50\n",
    "\n",
    "# create an instance of the class\n",
    "student = ExtendedStudent(\"Rajesh\", 70)\n",
    "\n",
    "# check if the student is passing\n",
    "if student.is_passing():\n",
    "    print(f\"{student.name} is passing.\")\n",
    "else:\n",
    "    print(f\"{student.name} is not passing.\")\n"
   ]
  },
  {
   "cell_type": "code",
   "execution_count": null,
   "id": "5b7f74ae",
   "metadata": {},
   "outputs": [],
   "source": []
  },
  {
   "cell_type": "code",
   "execution_count": null,
   "id": "abf1324b",
   "metadata": {},
   "outputs": [],
   "source": [
    "3.\tInheritance and Subclasses Create a new class called \"HighSchoolStudent\" that inherits from the\n",
    "\"Student\" class. Add an additional attribute called school_name to the \"HighSchoolStudent\" class. \n",
    "Create an instance of the \"HighSchoolStudent\" class and set both the attributes, including the \n",
    "inherited attributes from the \"Student\" class. Print all the attributes of the high school student."
   ]
  },
  {
   "cell_type": "code",
   "execution_count": 25,
   "id": "90238cb5",
   "metadata": {},
   "outputs": [
    {
     "name": "stdout",
     "output_type": "stream",
     "text": [
      "Name: Mohan\n",
      "Age: 18\n",
      "Grade: 90\n",
      "School Name: XYZ High School\n"
     ]
    }
   ],
   "source": [
    "class Student:\n",
    "    def __init__(self, name, age, grade):\n",
    "        self.name = name\n",
    "        self.age = age\n",
    "        self.grade = grade\n",
    "\n",
    "class HighSchoolStudent(Student):\n",
    "    def __init__(self, name, age, grade, school_name):\n",
    "        super().__init__(name, age, grade)\n",
    "        self.school_name = school_name\n",
    "\n",
    "# create an instance of the class and set the attributes\n",
    "student = HighSchoolStudent(\"Mohan\", 18, 90, \"XYZ High School\")\n",
    "\n",
    "# print the attributes of the student object\n",
    "print(f\"Name: {student.name}\")\n",
    "print(f\"Age: {student.age}\")\n",
    "print(f\"Grade: {student.grade}\")\n",
    "print(f\"School Name: {student.school_name}\")"
   ]
  },
  {
   "cell_type": "code",
   "execution_count": null,
   "id": "9fa02e0b",
   "metadata": {},
   "outputs": [],
   "source": []
  },
  {
   "cell_type": "markdown",
   "id": "4afdf1fd",
   "metadata": {},
   "source": [
    "# Part B: Functions in Python\n"
   ]
  },
  {
   "cell_type": "code",
   "execution_count": null,
   "id": "44026a32",
   "metadata": {},
   "outputs": [],
   "source": [
    "4.\tFunction with Parameters Write a Python function called \"calculate_rectangle_area\" that takes two\n",
    "parameters, length and width, and returns the area of a rectangle. Call the function with different\n",
    "sets of values and display the results."
   ]
  },
  {
   "cell_type": "code",
   "execution_count": 26,
   "id": "124c26c9",
   "metadata": {},
   "outputs": [
    {
     "name": "stdout",
     "output_type": "stream",
     "text": [
      "The area of a rectangle with length 5 and width 10 is 50.\n",
      "The area of a rectangle with length 7 and width 3 is 21.\n",
      "The area of a rectangle with length 2.5 and width 6 is 15.0.\n"
     ]
    }
   ],
   "source": [
    "def calculate_rectangle_area(length, width):\n",
    "    return length * width\n",
    "\n",
    "# call the function with different sets of values and display the results\n",
    "print(f\"The area of a rectangle with length 5 and width 10 is {calculate_rectangle_area(5, 10)}.\")\n",
    "print(f\"The area of a rectangle with length 7 and width 3 is {calculate_rectangle_area(7, 3)}.\")\n",
    "print(f\"The area of a rectangle with length 2.5 and width 6 is {calculate_rectangle_area(2.5, 6)}.\")"
   ]
  },
  {
   "cell_type": "code",
   "execution_count": null,
   "id": "b28ea129",
   "metadata": {},
   "outputs": [],
   "source": []
  },
  {
   "cell_type": "code",
   "execution_count": null,
   "id": "5bbf8182",
   "metadata": {},
   "outputs": [],
   "source": [
    "5.\tFunction with Default Parameters Create a Python function called \"greet\" that takes a name as a \n",
    "parameter and a greeting message as an optional parameter with a default value of \"Hello\". The\n",
    "function should return a formatted greeting message. Test the function by calling it with and without \n",
    "the optional parameter and display the results."
   ]
  },
  {
   "cell_type": "code",
   "execution_count": 28,
   "id": "969f49d4",
   "metadata": {},
   "outputs": [
    {
     "name": "stdout",
     "output_type": "stream",
     "text": [
      "Hello, Radhe!\n",
      "Hi, Jane!\n"
     ]
    }
   ],
   "source": [
    "def greet(name, greeting=\"Hello\"):\n",
    "    return f\"{greeting}, {name}!\"\n",
    "\n",
    "# call the function with different sets of values and display the results\n",
    "print(greet(\"Radhe\"))\n",
    "print(greet(\"Jane\", \"Hi\"))"
   ]
  },
  {
   "cell_type": "code",
   "execution_count": null,
   "id": "d507e844",
   "metadata": {},
   "outputs": [],
   "source": []
  },
  {
   "cell_type": "code",
   "execution_count": null,
   "id": "95bd8ad0",
   "metadata": {},
   "outputs": [],
   "source": [
    "6.\tFunction with Variable Number of Arguments Write a Python function called \"calculate_average\" that\n",
    "takes a variable number of arguments and calculates the average of those numbers. Use this function to\n",
    "find the average of 5, 10, 15, and 20, and display the result."
   ]
  },
  {
   "cell_type": "code",
   "execution_count": 29,
   "id": "e87af0bc",
   "metadata": {},
   "outputs": [
    {
     "name": "stdout",
     "output_type": "stream",
     "text": [
      "The average of 5, 10, 15, and 20 is 12.5.\n"
     ]
    }
   ],
   "source": [
    "def calculate_average(*args):\n",
    "    return sum(args) / len(args)\n",
    "\n",
    "# call the function with different sets of values and display the results\n",
    "print(f\"The average of 5, 10, 15, and 20 is {calculate_average(5, 10, 15, 20)}.\")\n"
   ]
  },
  {
   "cell_type": "code",
   "execution_count": null,
   "id": "e943c063",
   "metadata": {},
   "outputs": [],
   "source": []
  }
 ],
 "metadata": {
  "kernelspec": {
   "display_name": "Python 3 (ipykernel)",
   "language": "python",
   "name": "python3"
  },
  "language_info": {
   "codemirror_mode": {
    "name": "ipython",
    "version": 3
   },
   "file_extension": ".py",
   "mimetype": "text/x-python",
   "name": "python",
   "nbconvert_exporter": "python",
   "pygments_lexer": "ipython3",
   "version": "3.11.5"
  }
 },
 "nbformat": 4,
 "nbformat_minor": 5
}
